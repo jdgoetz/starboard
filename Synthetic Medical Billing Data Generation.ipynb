{
 "cells": [
  {
   "cell_type": "code",
   "execution_count": 1,
   "id": "2cccec3f",
   "metadata": {},
   "outputs": [
    {
     "name": "stdout",
     "output_type": "stream",
     "text": [
      "<class 'pandas.core.frame.DataFrame'>\n",
      "RangeIndex: 67657 entries, 0 to 67656\n",
      "Data columns (total 28 columns):\n",
      " #   Column                         Non-Null Count  Dtype  \n",
      "---  ------                         --------------  -----  \n",
      " 0   Rndrng_NPI                     67657 non-null  int64  \n",
      " 1   Rndrng_Prvdr_Last_Org_Name     67657 non-null  object \n",
      " 2   Rndrng_Prvdr_First_Name        67657 non-null  object \n",
      " 3   Rndrng_Prvdr_MI                33881 non-null  object \n",
      " 4   Rndrng_Prvdr_Crdntls           63333 non-null  object \n",
      " 5   Rndrng_Prvdr_Ent_Cd            67657 non-null  object \n",
      " 6   Rndrng_Prvdr_St1               67657 non-null  object \n",
      " 7   Rndrng_Prvdr_St2               20279 non-null  object \n",
      " 8   Rndrng_Prvdr_City              67657 non-null  object \n",
      " 9   Rndrng_Prvdr_State_Abrvtn      67657 non-null  object \n",
      " 10  Rndrng_Prvdr_State_FIPS        67657 non-null  int64  \n",
      " 11  Rndrng_Prvdr_Zip5              67657 non-null  int64  \n",
      " 12  Rndrng_Prvdr_RUCA              67649 non-null  float64\n",
      " 13  Rndrng_Prvdr_RUCA_Desc         67649 non-null  object \n",
      " 14  Rndrng_Prvdr_Cntry             67657 non-null  object \n",
      " 15  Rndrng_Prvdr_Type              67657 non-null  object \n",
      " 16  Rndrng_Prvdr_Mdcr_Prtcptg_Ind  67657 non-null  object \n",
      " 17  HCPCS_Cd                       67657 non-null  object \n",
      " 18  HCPCS_Desc                     67657 non-null  object \n",
      " 19  HCPCS_Drug_Ind                 67657 non-null  object \n",
      " 20  Place_Of_Srvc                  67657 non-null  object \n",
      " 21  Tot_Benes                      67657 non-null  int64  \n",
      " 22  Tot_Srvcs                      67657 non-null  float64\n",
      " 23  Tot_Bene_Day_Srvcs             67657 non-null  int64  \n",
      " 24  Avg_Sbmtd_Chrg                 67657 non-null  float64\n",
      " 25  Avg_Mdcr_Alowd_Amt             67657 non-null  float64\n",
      " 26  Avg_Mdcr_Pymt_Amt              67657 non-null  float64\n",
      " 27  Avg_Mdcr_Stdzd_Amt             67657 non-null  float64\n",
      "dtypes: float64(6), int64(5), object(17)\n",
      "memory usage: 14.5+ MB\n"
     ]
    }
   ],
   "source": [
    "import pandas as pd\n",
    "df = pd.read_csv(\"Medicare_Physician_Other_Practitioners_by_Provider_and_Service_2023_filtered.csv\", low_memory=False)\n",
    "df.info()\n",
    "pc_charges = df.groupby('HCPCS_Cd')['Avg_Sbmtd_Chrg'].mean().round(2).reset_index()\n",
    "pc_count = df.groupby('HCPCS_Cd')['Tot_Bene_Day_Srvcs'].sum().round(2).reset_index()\n",
    "allowed_min = df.groupby('HCPCS_Cd')['Avg_Mdcr_Alowd_Amt'].min().round(2).reset_index()\n",
    "allowed_max = df.groupby('HCPCS_Cd')['Avg_Mdcr_Alowd_Amt'].max().round(2).reset_index()\n",
    "\n",
    "procedure_details = pd.merge(pc_charges, pc_count, on='HCPCS_Cd', how='left')\n",
    "procedure_details = procedure_details.merge(allowed_min, on='HCPCS_Cd', how='left')\n",
    "procedure_details = procedure_details.merge(allowed_max, on='HCPCS_Cd', how='left')\n",
    "procedure_details.columns = ['procedure_code', 'charge_amt', 'service_count', 'allowed_min', 'allowed_max']\n",
    "procedure_details\n",
    "\n",
    "physicians_df = df.groupby('Rndrng_NPI')['Tot_Bene_Day_Srvcs'].sum().round(2).reset_index()\n",
    "physicians_df.columns = ['physician_npi', 'relative_count']"
   ]
  },
  {
   "cell_type": "code",
   "execution_count": 2,
   "id": "53f03480",
   "metadata": {},
   "outputs": [
    {
     "name": "stdout",
     "output_type": "stream",
     "text": [
      "<class 'pandas.core.frame.DataFrame'>\n",
      "RangeIndex: 5001311 entries, 0 to 5001310\n",
      "Data columns (total 12 columns):\n",
      " #   Column          Dtype  \n",
      "---  ------          -----  \n",
      " 0   visit_id        object \n",
      " 1   procedure_code  object \n",
      " 2   svc_date        object \n",
      " 3   payer_company   object \n",
      " 4   payer_type      object \n",
      " 5   clinic          object \n",
      " 6   physician_npi   int64  \n",
      " 7   charge_amt      float64\n",
      " 8   allowed_amt     float64\n",
      " 9   denial_code     object \n",
      " 10  appeal_success  object \n",
      " 11  denial          object \n",
      "dtypes: float64(2), int64(1), object(9)\n",
      "memory usage: 457.9+ MB\n"
     ]
    }
   ],
   "source": [
    "from faker import Faker\n",
    "import pandas as pd\n",
    "import random\n",
    "import numpy as np\n",
    "from datetime import datetime, timedelta\n",
    "\n",
    "def generate_synthetic_rcm_data(codes_df, carriers, physicians_df,\n",
    "                                n_visits=50, max_procs_per_visit=4):\n",
    "    fake = Faker()\n",
    "\n",
    "    # CPT sampling info\n",
    "    codes        = codes_df['procedure_code'].tolist()\n",
    "    code_weights = np.array(codes_df['service_count'], dtype=float)\n",
    "    code_probs   = code_weights / code_weights.sum()\n",
    "    charge_map   = dict(zip(codes_df['procedure_code'], codes_df['charge_amt']))\n",
    "    allowed_min  = dict(zip(codes_df['procedure_code'], codes_df['allowed_min']))\n",
    "    allowed_max  = dict(zip(codes_df['procedure_code'], codes_df['allowed_max']))\n",
    "\n",
    "    # Physician sampling info\n",
    "    npis           = physicians_df['physician_npi'].tolist()\n",
    "    npi_weights    = np.array(physicians_df['relative_count'], dtype=float)\n",
    "    npi_probs      = npi_weights / npi_weights.sum()\n",
    "\n",
    "    # Build per-carrier allowed ranges\n",
    "    allowed_ranges = {\n",
    "        carrier: {\n",
    "            code: tuple(sorted([\n",
    "                random.uniform(allowed_min[code], allowed_max[code]),\n",
    "                random.uniform(allowed_min[code], allowed_max[code])\n",
    "            ]))\n",
    "            for code in codes\n",
    "        }\n",
    "        for carrier in carriers\n",
    "    }\n",
    "\n",
    "    # Denial / appeal setup (unchanged)\n",
    "    denial_rate = 0.20\n",
    "    denial_group_weights = {\n",
    "        'eligibility':   0.22,\n",
    "        'coding':        0.28,\n",
    "        'benefits':      0.20,\n",
    "        'coordination': 0.11,\n",
    "        'other':         0.29\n",
    "    }\n",
    "    denial_codes_by_group = {\n",
    "        'eligibility':   {'204': 0.4, '27': 0.23, '29': 0.2, '6':.17},\n",
    "        'coding':        {'16': 0.32, '4': 0.28, '11': 0.27, '97': 0.23},\n",
    "        'benefits':      {'197': .45, '15': 0.2, '50': 0.2, '119': 0.05},\n",
    "        'coordination': {'18': 0.3, '22': 0.2, '23': 0.22, '96': 0.28},\n",
    "        'other':         {'31': 0.17, '38': 0.32, '40': 0.23, '50': 0.27}\n",
    "    }\n",
    "    appeal_success_rate = {\n",
    "        'eligibility':   0.72,\n",
    "        'coding':        0.95,\n",
    "        'benefits':      0.45,\n",
    "        'coordination': 0.32,\n",
    "        'other':         0.40\n",
    "    }\n",
    "\n",
    "    start_date = datetime(2024, 1, 1)\n",
    "    records = []\n",
    "\n",
    "    for visit_idx in range(n_visits):\n",
    "        visit_id    = f\"{100000 + visit_idx}\"\n",
    "        svc_date    = (start_date + timedelta(days=random.randint(0, 545))).date()\n",
    "        payer       = random.choice(carriers)\n",
    "        clinic      = random.choice(['Northside Clinic', 'Downtown Health', 'Lakeside Medical', 'Saint Lukes Hospital', 'Saint Marys Clinic'])\n",
    "        # Weighted NPI sampling\n",
    "        physician_npi = np.random.choice(npis, p=npi_probs)\n",
    "\n",
    "        # **Weighted, without-replacement** CPT sampling\n",
    "        n_procs = random.randint(1, min(max_procs_per_visit, len(codes)))\n",
    "        procs   = list(np.random.choice(codes, size=n_procs, replace=False, p=code_probs))\n",
    "\n",
    "        for code in procs:\n",
    "            charge_amt = charge_map[code]\n",
    "            lo, hi     = allowed_ranges[payer][code]\n",
    "            allowed_amt= random.uniform(lo, hi)\n",
    "\n",
    "            # Denial & appeal logic\n",
    "            if random.random() < denial_rate:\n",
    "                group        = random.choices(\n",
    "                                  list(denial_group_weights), \n",
    "                                  weights=list(denial_group_weights.values()), \n",
    "                                  k=1\n",
    "                               )[0]\n",
    "                dc_w         = denial_codes_by_group[group]\n",
    "                denial_code  = random.choices(\n",
    "                                  list(dc_w), weights=list(dc_w.values()), k=1\n",
    "                               )[0]\n",
    "                paid_amt     = 0.0\n",
    "                appeal_success = random.random() < appeal_success_rate[group]\n",
    "            else:\n",
    "                denial_code    = None\n",
    "                # paid_amt       = random.uniform(allowed_amt * 0.8, allowed_amt)\n",
    "                appeal_success = None\n",
    "\n",
    "\n",
    "            records.append({\n",
    "                'visit_id':         visit_id,\n",
    "                'procedure_code':   code,\n",
    "                'svc_date':         svc_date,\n",
    "                'payer_company':    payer,\n",
    "                'payer_type':       'Commercial',\n",
    "                'clinic':           clinic,\n",
    "                'physician_npi':    physician_npi,\n",
    "                'charge_amt':       charge_amt,\n",
    "                'allowed_amt':      round(allowed_amt, 2),\n",
    "                # 'adjust_amt':       round(adjust_amt, 2),\n",
    "                # 'paid_amt':         round(paid_amt, 2),\n",
    "                'denial_code':      denial_code,\n",
    "                'appeal_success':   appeal_success\n",
    "            })\n",
    "\n",
    "    return pd.DataFrame(records)\n",
    "\n",
    "\n",
    "if __name__ == \"__main__\":\n",
    "    # 2) Carrier list\n",
    "    carriers = [f\"Carrier{i}\" for i in range(1, 20)]\n",
    "\n",
    "    # 4) Generate and inspect\n",
    "    df = generate_synthetic_rcm_data(\n",
    "        procedure_details, carriers, physicians_df,\n",
    "        n_visits=2000000, max_procs_per_visit=4\n",
    "    )\n",
    "df['denial'] = df['denial_code'].apply(lambda x: 'yes' if pd.notna(x) else 'no')\n",
    "df.info()\n",
    "\n"
   ]
  },
  {
   "cell_type": "code",
   "execution_count": 3,
   "id": "e2007c15",
   "metadata": {},
   "outputs": [
    {
     "data": {
      "application/vnd.microsoft.datawrangler.viewer.v0+json": {
       "columns": [
        {
         "name": "procedure_code",
         "rawType": "object",
         "type": "string"
        },
        {
         "name": "count",
         "rawType": "int64",
         "type": "integer"
        }
       ],
       "ref": "6ad7909b-fc52-450c-b0f2-a4c785e31a44",
       "rows": [
        [
         "99214",
         "519714"
        ],
        [
         "99213",
         "425740"
        ],
        [
         "99232",
         "345941"
        ],
        [
         "36415",
         "328562"
        ],
        [
         "99308",
         "290568"
        ],
        [
         "99233",
         "219907"
        ],
        [
         "99309",
         "172076"
        ],
        [
         "G0439",
         "157010"
        ],
        [
         "93000",
         "143448"
        ],
        [
         "99490",
         "93393"
        ],
        [
         "85025",
         "81734"
        ],
        [
         "99223",
         "77012"
        ],
        [
         "G0008",
         "76081"
        ],
        [
         "80053",
         "75590"
        ],
        [
         "99239",
         "65552"
        ],
        [
         "80061",
         "64998"
        ],
        [
         "84443",
         "53400"
        ],
        [
         "99307",
         "48163"
        ],
        [
         "83036",
         "45206"
        ],
        [
         "99222",
         "44254"
        ],
        [
         "99497",
         "43734"
        ],
        [
         "99215",
         "43450"
        ],
        [
         "99212",
         "41224"
        ],
        [
         "99349",
         "37566"
        ],
        [
         "99457",
         "37429"
        ],
        [
         "96372",
         "34113"
        ],
        [
         "90662",
         "33793"
        ],
        [
         "93010",
         "33091"
        ],
        [
         "G0444",
         "33082"
        ],
        [
         "99231",
         "30634"
        ],
        [
         "99442",
         "28738"
        ],
        [
         "99454",
         "28577"
        ],
        [
         "99238",
         "27950"
        ],
        [
         "99306",
         "25710"
        ],
        [
         "82607",
         "24444"
        ],
        [
         "81002",
         "23358"
        ],
        [
         "84439",
         "22468"
        ],
        [
         "82306",
         "22149"
        ],
        [
         "90694",
         "22029"
        ],
        [
         "99291",
         "21700"
        ],
        [
         "99204",
         "21344"
        ],
        [
         "J3420",
         "20326"
        ],
        [
         "81003",
         "19836"
        ],
        [
         "99439",
         "19586"
        ],
        [
         "93306",
         "19413"
        ],
        [
         "99348",
         "18561"
        ],
        [
         "G0009",
         "18225"
        ],
        [
         "83735",
         "16675"
        ],
        [
         "82728",
         "16646"
        ],
        [
         "83540",
         "15249"
        ]
       ],
       "shape": {
        "columns": 1,
        "rows": 1015
       }
      },
      "text/plain": [
       "procedure_code\n",
       "99214    519714\n",
       "99213    425740\n",
       "99232    345941\n",
       "36415    328562\n",
       "99308    290568\n",
       "          ...  \n",
       "92979         3\n",
       "89220         3\n",
       "97129         3\n",
       "90714         2\n",
       "92544         2\n",
       "Name: count, Length: 1015, dtype: int64"
      ]
     },
     "execution_count": 3,
     "metadata": {},
     "output_type": "execute_result"
    }
   ],
   "source": [
    "df['procedure_code'].value_counts()"
   ]
  },
  {
   "cell_type": "code",
   "execution_count": 4,
   "id": "3b9f6efa",
   "metadata": {},
   "outputs": [
    {
     "data": {
      "application/vnd.microsoft.datawrangler.viewer.v0+json": {
       "columns": [
        {
         "name": "denial_code",
         "rawType": "object",
         "type": "string"
        },
        {
         "name": "count",
         "rawType": "int64",
         "type": "integer"
        }
       ],
       "ref": "2ea6e19d-a2ce-4f89-b490-c5694aba581a",
       "rows": [
        [
         "50",
         "112649"
        ],
        [
         "197",
         "90828"
        ],
        [
         "38",
         "84848"
        ],
        [
         "204",
         "79703"
        ],
        [
         "16",
         "74275"
        ],
        [
         "4",
         "64719"
        ],
        [
         "11",
         "62534"
        ],
        [
         "40",
         "61601"
        ],
        [
         "97",
         "53435"
        ],
        [
         "27",
         "45758"
        ],
        [
         "31",
         "45554"
        ],
        [
         "15",
         "40489"
        ],
        [
         "29",
         "39862"
        ],
        [
         "6",
         "34005"
        ],
        [
         "18",
         "30078"
        ],
        [
         "96",
         "28067"
        ],
        [
         "23",
         "21871"
        ],
        [
         "22",
         "19697"
        ],
        [
         "119",
         "10286"
        ]
       ],
       "shape": {
        "columns": 1,
        "rows": 19
       }
      },
      "text/plain": [
       "denial_code\n",
       "50     112649\n",
       "197     90828\n",
       "38      84848\n",
       "204     79703\n",
       "16      74275\n",
       "4       64719\n",
       "11      62534\n",
       "40      61601\n",
       "97      53435\n",
       "27      45758\n",
       "31      45554\n",
       "15      40489\n",
       "29      39862\n",
       "6       34005\n",
       "18      30078\n",
       "96      28067\n",
       "23      21871\n",
       "22      19697\n",
       "119     10286\n",
       "Name: count, dtype: int64"
      ]
     },
     "execution_count": 4,
     "metadata": {},
     "output_type": "execute_result"
    }
   ],
   "source": [
    "df['denial_code'].value_counts()"
   ]
  },
  {
   "cell_type": "code",
   "execution_count": 6,
   "id": "73359814",
   "metadata": {},
   "outputs": [
    {
     "data": {
      "application/vnd.microsoft.datawrangler.viewer.v0+json": {
       "columns": [
        {
         "name": "index",
         "rawType": "int64",
         "type": "integer"
        },
        {
         "name": "visit_id",
         "rawType": "object",
         "type": "string"
        },
        {
         "name": "procedure_code",
         "rawType": "object",
         "type": "string"
        },
        {
         "name": "svc_date",
         "rawType": "object",
         "type": "unknown"
        },
        {
         "name": "payer_company",
         "rawType": "object",
         "type": "string"
        },
        {
         "name": "payer_type",
         "rawType": "object",
         "type": "string"
        },
        {
         "name": "clinic",
         "rawType": "object",
         "type": "string"
        },
        {
         "name": "physician_npi",
         "rawType": "int64",
         "type": "integer"
        },
        {
         "name": "charge_amt",
         "rawType": "float64",
         "type": "float"
        },
        {
         "name": "allowed_amt",
         "rawType": "float64",
         "type": "float"
        },
        {
         "name": "denial_code",
         "rawType": "object",
         "type": "unknown"
        },
        {
         "name": "appeal_success",
         "rawType": "object",
         "type": "unknown"
        },
        {
         "name": "denial",
         "rawType": "object",
         "type": "string"
        }
       ],
       "ref": "5116b667-400b-4b5f-9bc5-f52fed1f7524",
       "rows": [
        [
         "0",
         "100000",
         "99214",
         "2024-10-19",
         "Carrier7",
         "Commercial",
         "Saint Marys Clinic",
         "1750383261",
         "311.23",
         "69.46",
         null,
         null,
         "no"
        ],
        [
         "1",
         "100001",
         "80061",
         "2024-03-01",
         "Carrier12",
         "Commercial",
         "Lakeside Medical",
         "1841278355",
         "55.13",
         "10.58",
         "29",
         "True",
         "yes"
        ],
        [
         "2",
         "100001",
         "99214",
         "2024-03-01",
         "Carrier12",
         "Commercial",
         "Lakeside Medical",
         "1841278355",
         "311.23",
         "75.1",
         null,
         null,
         "no"
        ],
        [
         "3",
         "100001",
         "99238",
         "2024-03-01",
         "Carrier12",
         "Commercial",
         "Lakeside Medical",
         "1841278355",
         "254.73",
         "80.58",
         null,
         null,
         "no"
        ],
        [
         "4",
         "100001",
         "99489",
         "2024-03-01",
         "Carrier12",
         "Commercial",
         "Lakeside Medical",
         "1841278355",
         "129.54",
         "58.22",
         null,
         null,
         "no"
        ],
        [
         "5",
         "100002",
         "82306",
         "2025-02-15",
         "Carrier1",
         "Commercial",
         "Northside Clinic",
         "1942341813",
         "99.54",
         "25.98",
         null,
         null,
         "no"
        ],
        [
         "6",
         "100002",
         "99213",
         "2025-02-15",
         "Carrier1",
         "Commercial",
         "Northside Clinic",
         "1942341813",
         "217.81",
         "65.83",
         null,
         null,
         "no"
        ],
        [
         "7",
         "100002",
         "99306",
         "2025-02-15",
         "Carrier1",
         "Commercial",
         "Northside Clinic",
         "1942341813",
         "360.36",
         "168.95",
         null,
         null,
         "no"
        ],
        [
         "8",
         "100003",
         "81002",
         "2024-01-04",
         "Carrier14",
         "Commercial",
         "Downtown Health",
         "1235311010",
         "18.08",
         "3.61",
         "29",
         "True",
         "yes"
        ],
        [
         "9",
         "100003",
         "G0444",
         "2024-01-04",
         "Carrier14",
         "Commercial",
         "Downtown Health",
         "1235311010",
         "50.64",
         "13.89",
         null,
         null,
         "no"
        ],
        [
         "10",
         "100003",
         "99306",
         "2024-01-04",
         "Carrier14",
         "Commercial",
         "Downtown Health",
         "1235311010",
         "360.36",
         "190.56",
         null,
         null,
         "no"
        ],
        [
         "11",
         "100003",
         "99308",
         "2024-01-04",
         "Carrier14",
         "Commercial",
         "Downtown Health",
         "1235311010",
         "167.95",
         "62.38",
         null,
         null,
         "no"
        ],
        [
         "12",
         "100004",
         "99214",
         "2024-08-27",
         "Carrier4",
         "Commercial",
         "Downtown Health",
         "1518359116",
         "311.23",
         "124.1",
         null,
         null,
         "no"
        ],
        [
         "13",
         "100004",
         "99231",
         "2024-08-27",
         "Carrier4",
         "Commercial",
         "Downtown Health",
         "1518359116",
         "140.51",
         "52.84",
         null,
         null,
         "no"
        ],
        [
         "14",
         "100005",
         "99308",
         "2024-11-09",
         "Carrier4",
         "Commercial",
         "Saint Marys Clinic",
         "1285605394",
         "167.95",
         "61.71",
         null,
         null,
         "no"
        ],
        [
         "15",
         "100005",
         "99214",
         "2024-11-09",
         "Carrier4",
         "Commercial",
         "Saint Marys Clinic",
         "1285605394",
         "311.23",
         "124.53",
         null,
         null,
         "no"
        ],
        [
         "16",
         "100005",
         "99233",
         "2024-11-09",
         "Carrier4",
         "Commercial",
         "Saint Marys Clinic",
         "1285605394",
         "380.06",
         "125.63",
         null,
         null,
         "no"
        ],
        [
         "17",
         "100006",
         "99232",
         "2024-08-05",
         "Carrier17",
         "Commercial",
         "Lakeside Medical",
         "1336128206",
         "268.62",
         "88.72",
         "29",
         "True",
         "yes"
        ],
        [
         "18",
         "100006",
         "99212",
         "2024-08-05",
         "Carrier17",
         "Commercial",
         "Lakeside Medical",
         "1336128206",
         "130.24",
         "58.33",
         null,
         null,
         "no"
        ],
        [
         "19",
         "100006",
         "99213",
         "2024-08-05",
         "Carrier17",
         "Commercial",
         "Lakeside Medical",
         "1336128206",
         "217.81",
         "60.81",
         null,
         null,
         "no"
        ],
        [
         "20",
         "100006",
         "99490",
         "2024-08-05",
         "Carrier17",
         "Commercial",
         "Lakeside Medical",
         "1336128206",
         "114.89",
         "69.79",
         null,
         null,
         "no"
        ],
        [
         "21",
         "100007",
         "99233",
         "2024-09-06",
         "Carrier10",
         "Commercial",
         "Saint Marys Clinic",
         "1265511752",
         "380.06",
         "135.14",
         "16",
         "True",
         "yes"
        ],
        [
         "22",
         "100007",
         "G0008",
         "2024-09-06",
         "Carrier10",
         "Commercial",
         "Saint Marys Clinic",
         "1265511752",
         "61.78",
         "11.82",
         null,
         null,
         "no"
        ],
        [
         "23",
         "100007",
         "80053",
         "2024-09-06",
         "Carrier10",
         "Commercial",
         "Saint Marys Clinic",
         "1265511752",
         "36.24",
         "9.47",
         null,
         null,
         "no"
        ],
        [
         "24",
         "100008",
         "93306",
         "2024-02-03",
         "Carrier16",
         "Commercial",
         "Northside Clinic",
         "1760700520",
         "586.35",
         "93.96",
         null,
         null,
         "no"
        ],
        [
         "25",
         "100008",
         "36415",
         "2024-02-03",
         "Carrier16",
         "Commercial",
         "Northside Clinic",
         "1760700520",
         "19.14",
         "4.84",
         null,
         null,
         "no"
        ],
        [
         "26",
         "100009",
         "96127",
         "2024-09-22",
         "Carrier4",
         "Commercial",
         "Saint Lukes Hospital",
         "1528069085",
         "29.01",
         "5.58",
         "31",
         "False",
         "yes"
        ],
        [
         "27",
         "100009",
         "90732",
         "2024-09-22",
         "Carrier4",
         "Commercial",
         "Saint Lukes Hospital",
         "1528069085",
         "209.98",
         "111.03",
         null,
         null,
         "no"
        ],
        [
         "28",
         "100009",
         "99213",
         "2024-09-22",
         "Carrier4",
         "Commercial",
         "Saint Lukes Hospital",
         "1528069085",
         "217.81",
         "100.22",
         null,
         null,
         "no"
        ],
        [
         "29",
         "100010",
         "84520",
         "2025-02-09",
         "Carrier4",
         "Commercial",
         "Downtown Health",
         "1295849545",
         "16.5",
         "3.86",
         null,
         null,
         "no"
        ],
        [
         "30",
         "100010",
         "99214",
         "2025-02-09",
         "Carrier4",
         "Commercial",
         "Downtown Health",
         "1295849545",
         "311.23",
         "124.34",
         null,
         null,
         "no"
        ],
        [
         "31",
         "100010",
         "93010",
         "2025-02-09",
         "Carrier4",
         "Commercial",
         "Downtown Health",
         "1295849545",
         "39.52",
         "7.15",
         "50",
         "False",
         "yes"
        ],
        [
         "32",
         "100011",
         "99457",
         "2024-02-09",
         "Carrier8",
         "Commercial",
         "Saint Marys Clinic",
         "1447412481",
         "140.17",
         "38.64",
         null,
         null,
         "no"
        ],
        [
         "33",
         "100011",
         "36415",
         "2024-02-09",
         "Carrier8",
         "Commercial",
         "Saint Marys Clinic",
         "1447412481",
         "19.14",
         "6.11",
         null,
         null,
         "no"
        ],
        [
         "34",
         "100011",
         "96116",
         "2024-02-09",
         "Carrier8",
         "Commercial",
         "Saint Marys Clinic",
         "1447412481",
         "171.6",
         "103.18",
         null,
         null,
         "no"
        ],
        [
         "35",
         "100011",
         "99309",
         "2024-02-09",
         "Carrier8",
         "Commercial",
         "Saint Marys Clinic",
         "1447412481",
         "218.86",
         "101.77",
         "11",
         "True",
         "yes"
        ],
        [
         "36",
         "100012",
         "99214",
         "2024-09-25",
         "Carrier6",
         "Commercial",
         "Northside Clinic",
         "1427056878",
         "311.23",
         "98.18",
         null,
         null,
         "no"
        ],
        [
         "37",
         "100013",
         "84443",
         "2025-05-12",
         "Carrier15",
         "Commercial",
         "Saint Lukes Hospital",
         "1780996983",
         "55.95",
         "16.4",
         null,
         null,
         "no"
        ],
        [
         "38",
         "100013",
         "99213",
         "2025-05-12",
         "Carrier15",
         "Commercial",
         "Saint Lukes Hospital",
         "1780996983",
         "217.81",
         "102.73",
         null,
         null,
         "no"
        ],
        [
         "39",
         "100014",
         "99457",
         "2025-05-17",
         "Carrier16",
         "Commercial",
         "Saint Lukes Hospital",
         "1124376926",
         "140.17",
         "51.68",
         null,
         null,
         "no"
        ],
        [
         "40",
         "100014",
         "99497",
         "2025-05-17",
         "Carrier16",
         "Commercial",
         "Saint Lukes Hospital",
         "1124376926",
         "230.3",
         "51.14",
         null,
         null,
         "no"
        ],
        [
         "41",
         "100014",
         "99214",
         "2025-05-17",
         "Carrier16",
         "Commercial",
         "Saint Lukes Hospital",
         "1124376926",
         "311.23",
         "77.09",
         null,
         null,
         "no"
        ],
        [
         "42",
         "100015",
         "84270",
         "2024-01-25",
         "Carrier2",
         "Commercial",
         "Northside Clinic",
         "1578772943",
         "56.1",
         "20.67",
         null,
         null,
         "no"
        ],
        [
         "43",
         "100015",
         "99291",
         "2024-01-25",
         "Carrier2",
         "Commercial",
         "Northside Clinic",
         "1578772943",
         "897.21",
         "262.6",
         null,
         null,
         "no"
        ],
        [
         "44",
         "100015",
         "99223",
         "2024-01-25",
         "Carrier2",
         "Commercial",
         "Northside Clinic",
         "1578772943",
         "712.14",
         "189.35",
         null,
         null,
         "no"
        ],
        [
         "45",
         "100016",
         "99232",
         "2024-08-05",
         "Carrier19",
         "Commercial",
         "Downtown Health",
         "1780684738",
         "268.62",
         "78.24",
         null,
         null,
         "no"
        ],
        [
         "46",
         "100016",
         "93018",
         "2024-08-05",
         "Carrier19",
         "Commercial",
         "Downtown Health",
         "1780684738",
         "59.38",
         "13.17",
         null,
         null,
         "no"
        ],
        [
         "47",
         "100016",
         "99309",
         "2024-08-05",
         "Carrier19",
         "Commercial",
         "Downtown Health",
         "1780684738",
         "218.86",
         "96.36",
         null,
         null,
         "no"
        ],
        [
         "48",
         "100017",
         "99490",
         "2024-04-18",
         "Carrier13",
         "Commercial",
         "Saint Lukes Hospital",
         "1538234570",
         "114.89",
         "69.85",
         null,
         null,
         "no"
        ],
        [
         "49",
         "100017",
         "J1245",
         "2024-04-18",
         "Carrier13",
         "Commercial",
         "Saint Lukes Hospital",
         "1538234570",
         "21.39",
         "3.6",
         null,
         null,
         "no"
        ]
       ],
       "shape": {
        "columns": 12,
        "rows": 5001311
       }
      },
      "text/html": [
       "<div>\n",
       "<style scoped>\n",
       "    .dataframe tbody tr th:only-of-type {\n",
       "        vertical-align: middle;\n",
       "    }\n",
       "\n",
       "    .dataframe tbody tr th {\n",
       "        vertical-align: top;\n",
       "    }\n",
       "\n",
       "    .dataframe thead th {\n",
       "        text-align: right;\n",
       "    }\n",
       "</style>\n",
       "<table border=\"1\" class=\"dataframe\">\n",
       "  <thead>\n",
       "    <tr style=\"text-align: right;\">\n",
       "      <th></th>\n",
       "      <th>visit_id</th>\n",
       "      <th>procedure_code</th>\n",
       "      <th>svc_date</th>\n",
       "      <th>payer_company</th>\n",
       "      <th>payer_type</th>\n",
       "      <th>clinic</th>\n",
       "      <th>physician_npi</th>\n",
       "      <th>charge_amt</th>\n",
       "      <th>allowed_amt</th>\n",
       "      <th>denial_code</th>\n",
       "      <th>appeal_success</th>\n",
       "      <th>denial</th>\n",
       "    </tr>\n",
       "  </thead>\n",
       "  <tbody>\n",
       "    <tr>\n",
       "      <th>0</th>\n",
       "      <td>100000</td>\n",
       "      <td>99214</td>\n",
       "      <td>2024-10-19</td>\n",
       "      <td>Carrier7</td>\n",
       "      <td>Commercial</td>\n",
       "      <td>Saint Marys Clinic</td>\n",
       "      <td>1750383261</td>\n",
       "      <td>311.23</td>\n",
       "      <td>69.46</td>\n",
       "      <td>None</td>\n",
       "      <td>None</td>\n",
       "      <td>no</td>\n",
       "    </tr>\n",
       "    <tr>\n",
       "      <th>1</th>\n",
       "      <td>100001</td>\n",
       "      <td>80061</td>\n",
       "      <td>2024-03-01</td>\n",
       "      <td>Carrier12</td>\n",
       "      <td>Commercial</td>\n",
       "      <td>Lakeside Medical</td>\n",
       "      <td>1841278355</td>\n",
       "      <td>55.13</td>\n",
       "      <td>10.58</td>\n",
       "      <td>29</td>\n",
       "      <td>True</td>\n",
       "      <td>yes</td>\n",
       "    </tr>\n",
       "    <tr>\n",
       "      <th>2</th>\n",
       "      <td>100001</td>\n",
       "      <td>99214</td>\n",
       "      <td>2024-03-01</td>\n",
       "      <td>Carrier12</td>\n",
       "      <td>Commercial</td>\n",
       "      <td>Lakeside Medical</td>\n",
       "      <td>1841278355</td>\n",
       "      <td>311.23</td>\n",
       "      <td>75.10</td>\n",
       "      <td>None</td>\n",
       "      <td>None</td>\n",
       "      <td>no</td>\n",
       "    </tr>\n",
       "    <tr>\n",
       "      <th>3</th>\n",
       "      <td>100001</td>\n",
       "      <td>99238</td>\n",
       "      <td>2024-03-01</td>\n",
       "      <td>Carrier12</td>\n",
       "      <td>Commercial</td>\n",
       "      <td>Lakeside Medical</td>\n",
       "      <td>1841278355</td>\n",
       "      <td>254.73</td>\n",
       "      <td>80.58</td>\n",
       "      <td>None</td>\n",
       "      <td>None</td>\n",
       "      <td>no</td>\n",
       "    </tr>\n",
       "    <tr>\n",
       "      <th>4</th>\n",
       "      <td>100001</td>\n",
       "      <td>99489</td>\n",
       "      <td>2024-03-01</td>\n",
       "      <td>Carrier12</td>\n",
       "      <td>Commercial</td>\n",
       "      <td>Lakeside Medical</td>\n",
       "      <td>1841278355</td>\n",
       "      <td>129.54</td>\n",
       "      <td>58.22</td>\n",
       "      <td>None</td>\n",
       "      <td>None</td>\n",
       "      <td>no</td>\n",
       "    </tr>\n",
       "    <tr>\n",
       "      <th>...</th>\n",
       "      <td>...</td>\n",
       "      <td>...</td>\n",
       "      <td>...</td>\n",
       "      <td>...</td>\n",
       "      <td>...</td>\n",
       "      <td>...</td>\n",
       "      <td>...</td>\n",
       "      <td>...</td>\n",
       "      <td>...</td>\n",
       "      <td>...</td>\n",
       "      <td>...</td>\n",
       "      <td>...</td>\n",
       "    </tr>\n",
       "    <tr>\n",
       "      <th>5001306</th>\n",
       "      <td>2099998</td>\n",
       "      <td>99489</td>\n",
       "      <td>2024-08-16</td>\n",
       "      <td>Carrier13</td>\n",
       "      <td>Commercial</td>\n",
       "      <td>Saint Lukes Hospital</td>\n",
       "      <td>1881824829</td>\n",
       "      <td>129.54</td>\n",
       "      <td>68.35</td>\n",
       "      <td>None</td>\n",
       "      <td>None</td>\n",
       "      <td>no</td>\n",
       "    </tr>\n",
       "    <tr>\n",
       "      <th>5001307</th>\n",
       "      <td>2099998</td>\n",
       "      <td>82274</td>\n",
       "      <td>2024-08-16</td>\n",
       "      <td>Carrier13</td>\n",
       "      <td>Commercial</td>\n",
       "      <td>Saint Lukes Hospital</td>\n",
       "      <td>1881824829</td>\n",
       "      <td>40.81</td>\n",
       "      <td>15.26</td>\n",
       "      <td>None</td>\n",
       "      <td>None</td>\n",
       "      <td>no</td>\n",
       "    </tr>\n",
       "    <tr>\n",
       "      <th>5001308</th>\n",
       "      <td>2099999</td>\n",
       "      <td>99214</td>\n",
       "      <td>2024-03-22</td>\n",
       "      <td>Carrier9</td>\n",
       "      <td>Commercial</td>\n",
       "      <td>Saint Lukes Hospital</td>\n",
       "      <td>1215304845</td>\n",
       "      <td>311.23</td>\n",
       "      <td>55.20</td>\n",
       "      <td>None</td>\n",
       "      <td>None</td>\n",
       "      <td>no</td>\n",
       "    </tr>\n",
       "    <tr>\n",
       "      <th>5001309</th>\n",
       "      <td>2099999</td>\n",
       "      <td>99232</td>\n",
       "      <td>2024-03-22</td>\n",
       "      <td>Carrier9</td>\n",
       "      <td>Commercial</td>\n",
       "      <td>Saint Lukes Hospital</td>\n",
       "      <td>1215304845</td>\n",
       "      <td>268.62</td>\n",
       "      <td>75.55</td>\n",
       "      <td>50</td>\n",
       "      <td>False</td>\n",
       "      <td>yes</td>\n",
       "    </tr>\n",
       "    <tr>\n",
       "      <th>5001310</th>\n",
       "      <td>2099999</td>\n",
       "      <td>81002</td>\n",
       "      <td>2024-03-22</td>\n",
       "      <td>Carrier9</td>\n",
       "      <td>Commercial</td>\n",
       "      <td>Saint Lukes Hospital</td>\n",
       "      <td>1215304845</td>\n",
       "      <td>18.08</td>\n",
       "      <td>3.87</td>\n",
       "      <td>None</td>\n",
       "      <td>None</td>\n",
       "      <td>no</td>\n",
       "    </tr>\n",
       "  </tbody>\n",
       "</table>\n",
       "<p>5001311 rows × 12 columns</p>\n",
       "</div>"
      ],
      "text/plain": [
       "        visit_id procedure_code    svc_date payer_company  payer_type  \\\n",
       "0         100000          99214  2024-10-19      Carrier7  Commercial   \n",
       "1         100001          80061  2024-03-01     Carrier12  Commercial   \n",
       "2         100001          99214  2024-03-01     Carrier12  Commercial   \n",
       "3         100001          99238  2024-03-01     Carrier12  Commercial   \n",
       "4         100001          99489  2024-03-01     Carrier12  Commercial   \n",
       "...          ...            ...         ...           ...         ...   \n",
       "5001306  2099998          99489  2024-08-16     Carrier13  Commercial   \n",
       "5001307  2099998          82274  2024-08-16     Carrier13  Commercial   \n",
       "5001308  2099999          99214  2024-03-22      Carrier9  Commercial   \n",
       "5001309  2099999          99232  2024-03-22      Carrier9  Commercial   \n",
       "5001310  2099999          81002  2024-03-22      Carrier9  Commercial   \n",
       "\n",
       "                       clinic  physician_npi  charge_amt  allowed_amt  \\\n",
       "0          Saint Marys Clinic     1750383261      311.23        69.46   \n",
       "1            Lakeside Medical     1841278355       55.13        10.58   \n",
       "2            Lakeside Medical     1841278355      311.23        75.10   \n",
       "3            Lakeside Medical     1841278355      254.73        80.58   \n",
       "4            Lakeside Medical     1841278355      129.54        58.22   \n",
       "...                       ...            ...         ...          ...   \n",
       "5001306  Saint Lukes Hospital     1881824829      129.54        68.35   \n",
       "5001307  Saint Lukes Hospital     1881824829       40.81        15.26   \n",
       "5001308  Saint Lukes Hospital     1215304845      311.23        55.20   \n",
       "5001309  Saint Lukes Hospital     1215304845      268.62        75.55   \n",
       "5001310  Saint Lukes Hospital     1215304845       18.08         3.87   \n",
       "\n",
       "        denial_code appeal_success denial  \n",
       "0              None           None     no  \n",
       "1                29           True    yes  \n",
       "2              None           None     no  \n",
       "3              None           None     no  \n",
       "4              None           None     no  \n",
       "...             ...            ...    ...  \n",
       "5001306        None           None     no  \n",
       "5001307        None           None     no  \n",
       "5001308        None           None     no  \n",
       "5001309          50          False    yes  \n",
       "5001310        None           None     no  \n",
       "\n",
       "[5001311 rows x 12 columns]"
      ]
     },
     "execution_count": 6,
     "metadata": {},
     "output_type": "execute_result"
    }
   ],
   "source": [
    "df"
   ]
  },
  {
   "cell_type": "code",
   "execution_count": 5,
   "id": "455029cb",
   "metadata": {},
   "outputs": [],
   "source": [
    "df.to_csv(\"synthetic_medical_billing_data.csv\", index=False)"
   ]
  }
 ],
 "metadata": {
  "kernelspec": {
   "display_name": "Python 3",
   "language": "python",
   "name": "python3"
  },
  "language_info": {
   "codemirror_mode": {
    "name": "ipython",
    "version": 3
   },
   "file_extension": ".py",
   "mimetype": "text/x-python",
   "name": "python",
   "nbconvert_exporter": "python",
   "pygments_lexer": "ipython3",
   "version": "3.12.8"
  }
 },
 "nbformat": 4,
 "nbformat_minor": 5
}
