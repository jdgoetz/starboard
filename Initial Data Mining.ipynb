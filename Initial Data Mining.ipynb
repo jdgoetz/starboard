{
 "cells": [
  {
   "cell_type": "markdown",
   "id": "f60112f9",
   "metadata": {},
   "source": [
    "### Test"
   ]
  },
  {
   "cell_type": "code",
   "execution_count": 1,
   "id": "d3af2882",
   "metadata": {},
   "outputs": [],
   "source": [
    "import pandas as pd"
   ]
  },
  {
   "cell_type": "code",
   "execution_count": 2,
   "id": "681029ca",
   "metadata": {},
   "outputs": [],
   "source": [
    "df = pd.read_csv(\"Medicare_Physician_Other_Practitioners_by_Provider_and_Service_2023.csv\", low_memory=False)"
   ]
  },
  {
   "cell_type": "code",
   "execution_count": 3,
   "id": "b5cca700",
   "metadata": {},
   "outputs": [],
   "source": [
    "df = df[(df['Rndrng_Prvdr_State_Abrvtn'] == 'NY') & (df['Rndrng_Prvdr_Type'] == 'Internal Medicine')]"
   ]
  },
  {
   "cell_type": "code",
   "execution_count": 4,
   "id": "73ef939a",
   "metadata": {},
   "outputs": [
    {
     "name": "stdout",
     "output_type": "stream",
     "text": [
      "<class 'pandas.core.frame.DataFrame'>\n",
      "Index: 67657 entries, 2696 to 9658475\n",
      "Data columns (total 28 columns):\n",
      " #   Column                         Non-Null Count  Dtype  \n",
      "---  ------                         --------------  -----  \n",
      " 0   Rndrng_NPI                     67657 non-null  int64  \n",
      " 1   Rndrng_Prvdr_Last_Org_Name     67657 non-null  object \n",
      " 2   Rndrng_Prvdr_First_Name        67657 non-null  object \n",
      " 3   Rndrng_Prvdr_MI                33881 non-null  object \n",
      " 4   Rndrng_Prvdr_Crdntls           63333 non-null  object \n",
      " 5   Rndrng_Prvdr_Ent_Cd            67657 non-null  object \n",
      " 6   Rndrng_Prvdr_St1               67657 non-null  object \n",
      " 7   Rndrng_Prvdr_St2               20279 non-null  object \n",
      " 8   Rndrng_Prvdr_City              67657 non-null  object \n",
      " 9   Rndrng_Prvdr_State_Abrvtn      67657 non-null  object \n",
      " 10  Rndrng_Prvdr_State_FIPS        67657 non-null  object \n",
      " 11  Rndrng_Prvdr_Zip5              67657 non-null  object \n",
      " 12  Rndrng_Prvdr_RUCA              67649 non-null  float64\n",
      " 13  Rndrng_Prvdr_RUCA_Desc         67649 non-null  object \n",
      " 14  Rndrng_Prvdr_Cntry             67657 non-null  object \n",
      " 15  Rndrng_Prvdr_Type              67657 non-null  object \n",
      " 16  Rndrng_Prvdr_Mdcr_Prtcptg_Ind  67657 non-null  object \n",
      " 17  HCPCS_Cd                       67657 non-null  object \n",
      " 18  HCPCS_Desc                     67657 non-null  object \n",
      " 19  HCPCS_Drug_Ind                 67657 non-null  object \n",
      " 20  Place_Of_Srvc                  67657 non-null  object \n",
      " 21  Tot_Benes                      67657 non-null  int64  \n",
      " 22  Tot_Srvcs                      67657 non-null  float64\n",
      " 23  Tot_Bene_Day_Srvcs             67657 non-null  int64  \n",
      " 24  Avg_Sbmtd_Chrg                 67657 non-null  float64\n",
      " 25  Avg_Mdcr_Alowd_Amt             67657 non-null  float64\n",
      " 26  Avg_Mdcr_Pymt_Amt              67657 non-null  float64\n",
      " 27  Avg_Mdcr_Stdzd_Amt             67657 non-null  float64\n",
      "dtypes: float64(6), int64(3), object(19)\n",
      "memory usage: 15.0+ MB\n"
     ]
    }
   ],
   "source": [
    "df.info()"
   ]
  },
  {
   "cell_type": "code",
   "execution_count": 5,
   "id": "3bee2783",
   "metadata": {},
   "outputs": [
    {
     "data": {
      "application/vnd.microsoft.datawrangler.viewer.v0+json": {
       "columns": [
        {
         "name": "index",
         "rawType": "int64",
         "type": "integer"
        },
        {
         "name": "HCPCS_Cd",
         "rawType": "object",
         "type": "string"
        },
        {
         "name": "Avg_Sbmtd_Chrg",
         "rawType": "float64",
         "type": "float"
        }
       ],
       "ref": "a814173d-f1ff-4ac4-a92a-faa9c04e09cd",
       "rows": [
        [
         "0",
         "00670",
         "6003.29"
        ],
        [
         "1",
         "00731",
         "2893.17"
        ],
        [
         "2",
         "00811",
         "2771.74"
        ],
        [
         "3",
         "00812",
         "2292.74"
        ],
        [
         "4",
         "00813",
         "3356.37"
        ],
        [
         "5",
         "0124A",
         "77.75"
        ],
        [
         "6",
         "0134A",
         "74.04"
        ],
        [
         "7",
         "0174A",
         "75.0"
        ],
        [
         "8",
         "01938",
         "2206.59"
        ],
        [
         "9",
         "0241U",
         "352.13"
        ],
        [
         "10",
         "0358T",
         "50.0"
        ],
        [
         "11",
         "0403T",
         "39.83"
        ],
        [
         "12",
         "0504T",
         "125.0"
        ],
        [
         "13",
         "10005",
         "316.21"
        ],
        [
         "14",
         "10006",
         "186.36"
        ],
        [
         "15",
         "10060",
         "250.0"
        ],
        [
         "16",
         "10061",
         "278.65"
        ],
        [
         "17",
         "11042",
         "251.39"
        ],
        [
         "18",
         "11043",
         "503.48"
        ],
        [
         "19",
         "11044",
         "533.89"
        ],
        [
         "20",
         "11045",
         "101.36"
        ],
        [
         "21",
         "11046",
         "98.31"
        ],
        [
         "22",
         "11047",
         "201.5"
        ],
        [
         "23",
         "11102",
         "259.87"
        ],
        [
         "24",
         "11103",
         "100.11"
        ],
        [
         "25",
         "11104",
         "160.84"
        ],
        [
         "26",
         "11200",
         "147.62"
        ],
        [
         "27",
         "11312",
         "230.0"
        ],
        [
         "28",
         "11420",
         "173.8"
        ],
        [
         "29",
         "11441",
         "254.09"
        ],
        [
         "30",
         "11721",
         "112.62"
        ],
        [
         "31",
         "11980",
         "150.0"
        ],
        [
         "32",
         "12032",
         "508.35"
        ],
        [
         "33",
         "12042",
         "520.49"
        ],
        [
         "34",
         "13101",
         "667.59"
        ],
        [
         "35",
         "13121",
         "714.05"
        ],
        [
         "36",
         "13122",
         "213.42"
        ],
        [
         "37",
         "13132",
         "792.41"
        ],
        [
         "38",
         "13152",
         "835.02"
        ],
        [
         "39",
         "14041",
         "1562.35"
        ],
        [
         "40",
         "14060",
         "1287.56"
        ],
        [
         "41",
         "14061",
         "1668.36"
        ],
        [
         "42",
         "15260",
         "1676.1"
        ],
        [
         "43",
         "15271",
         "175.0"
        ],
        [
         "44",
         "17000",
         "132.69"
        ],
        [
         "45",
         "17003",
         "20.43"
        ],
        [
         "46",
         "17004",
         "400.0"
        ],
        [
         "47",
         "17110",
         "193.98"
        ],
        [
         "48",
         "17250",
         "291.16"
        ],
        [
         "49",
         "17261",
         "339.13"
        ]
       ],
       "shape": {
        "columns": 2,
        "rows": 1015
       }
      },
      "text/html": [
       "<div>\n",
       "<style scoped>\n",
       "    .dataframe tbody tr th:only-of-type {\n",
       "        vertical-align: middle;\n",
       "    }\n",
       "\n",
       "    .dataframe tbody tr th {\n",
       "        vertical-align: top;\n",
       "    }\n",
       "\n",
       "    .dataframe thead th {\n",
       "        text-align: right;\n",
       "    }\n",
       "</style>\n",
       "<table border=\"1\" class=\"dataframe\">\n",
       "  <thead>\n",
       "    <tr style=\"text-align: right;\">\n",
       "      <th></th>\n",
       "      <th>HCPCS_Cd</th>\n",
       "      <th>Avg_Sbmtd_Chrg</th>\n",
       "    </tr>\n",
       "  </thead>\n",
       "  <tbody>\n",
       "    <tr>\n",
       "      <th>0</th>\n",
       "      <td>00670</td>\n",
       "      <td>6003.29</td>\n",
       "    </tr>\n",
       "    <tr>\n",
       "      <th>1</th>\n",
       "      <td>00731</td>\n",
       "      <td>2893.17</td>\n",
       "    </tr>\n",
       "    <tr>\n",
       "      <th>2</th>\n",
       "      <td>00811</td>\n",
       "      <td>2771.74</td>\n",
       "    </tr>\n",
       "    <tr>\n",
       "      <th>3</th>\n",
       "      <td>00812</td>\n",
       "      <td>2292.74</td>\n",
       "    </tr>\n",
       "    <tr>\n",
       "      <th>4</th>\n",
       "      <td>00813</td>\n",
       "      <td>3356.37</td>\n",
       "    </tr>\n",
       "    <tr>\n",
       "      <th>...</th>\n",
       "      <td>...</td>\n",
       "      <td>...</td>\n",
       "    </tr>\n",
       "    <tr>\n",
       "      <th>1010</th>\n",
       "      <td>U0001</td>\n",
       "      <td>99.71</td>\n",
       "    </tr>\n",
       "    <tr>\n",
       "      <th>1011</th>\n",
       "      <td>U0002</td>\n",
       "      <td>94.00</td>\n",
       "    </tr>\n",
       "    <tr>\n",
       "      <th>1012</th>\n",
       "      <td>U0003</td>\n",
       "      <td>235.00</td>\n",
       "    </tr>\n",
       "    <tr>\n",
       "      <th>1013</th>\n",
       "      <td>U0004</td>\n",
       "      <td>150.00</td>\n",
       "    </tr>\n",
       "    <tr>\n",
       "      <th>1014</th>\n",
       "      <td>U0005</td>\n",
       "      <td>33.33</td>\n",
       "    </tr>\n",
       "  </tbody>\n",
       "</table>\n",
       "<p>1015 rows × 2 columns</p>\n",
       "</div>"
      ],
      "text/plain": [
       "     HCPCS_Cd  Avg_Sbmtd_Chrg\n",
       "0       00670         6003.29\n",
       "1       00731         2893.17\n",
       "2       00811         2771.74\n",
       "3       00812         2292.74\n",
       "4       00813         3356.37\n",
       "...       ...             ...\n",
       "1010    U0001           99.71\n",
       "1011    U0002           94.00\n",
       "1012    U0003          235.00\n",
       "1013    U0004          150.00\n",
       "1014    U0005           33.33\n",
       "\n",
       "[1015 rows x 2 columns]"
      ]
     },
     "execution_count": 5,
     "metadata": {},
     "output_type": "execute_result"
    }
   ],
   "source": [
    "pc_charges = df.groupby('HCPCS_Cd')['Avg_Sbmtd_Chrg'].mean().round(2).reset_index()\n",
    "pc_count = df.groupby('HCPCS_Cd')['Tot_Bene_Day_Srvcs'].sum().round(2).reset_index()\n",
    "allowed_min = df.groupby('HCPCS_Cd')['Avg_Mdcr_Alowd_Amt'].min().round(2).reset_index()\n",
    "allowed_max = df.groupby('HCPCS_Cd')['Avg_Mdcr_Alowd_Amt'].max().round(2).reset_index()\n",
    "pc_charges"
   ]
  }
 ],
 "metadata": {
  "kernelspec": {
   "display_name": "Python 3",
   "language": "python",
   "name": "python3"
  },
  "language_info": {
   "codemirror_mode": {
    "name": "ipython",
    "version": 3
   },
   "file_extension": ".py",
   "mimetype": "text/x-python",
   "name": "python",
   "nbconvert_exporter": "python",
   "pygments_lexer": "ipython3",
   "version": "3.12.8"
  }
 },
 "nbformat": 4,
 "nbformat_minor": 5
}
