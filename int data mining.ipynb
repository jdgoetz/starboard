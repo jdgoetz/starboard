{
 "cells": [
  {
   "cell_type": "markdown",
   "id": "f60112f9",
   "metadata": {},
   "source": [
    "### Test 2"
   ]
  },
  {
   "cell_type": "code",
   "execution_count": null,
   "id": "d3af2882",
   "metadata": {},
   "outputs": [],
   "source": [
    "import pandas as pd"
   ]
  },
  {
   "cell_type": "code",
   "execution_count": null,
   "id": "681029ca",
   "metadata": {},
   "outputs": [],
   "source": [
    "df = pd.read_csv(r\"C:\\Users\\jgotg\\Downloads\\Medicare_Physician_Other_Practitioners_by_Provider_and_Service_2023\\Medicare_Physician_Other_Practitioners_by_Provider_and_Service_2023.csv\")"
   ]
  },
  {
   "cell_type": "code",
   "execution_count": null,
   "id": "73ef939a",
   "metadata": {},
   "outputs": [],
   "source": [
    "df.info()"
   ]
  },
  {
   "cell_type": "code",
   "execution_count": null,
   "id": "7c6a0875",
   "metadata": {},
   "outputs": [],
   "source": [
    "dfny1 = df[(df['Rndrng_Prvdr_State_Abrvtn'] == 'NY') & (df['Rndrng_Prvdr_Type'] == 'Internal Medicine')]"
   ]
  },
  {
   "cell_type": "code",
   "execution_count": null,
   "id": "425d5a0c",
   "metadata": {},
   "outputs": [],
   "source": [
    "dfny1.info()"
   ]
  },
  {
   "cell_type": "code",
   "execution_count": null,
   "id": "87c5c9cc",
   "metadata": {},
   "outputs": [],
   "source": [
    "df.columns"
   ]
  },
  {
   "cell_type": "code",
   "execution_count": null,
   "id": "21dddcb0",
   "metadata": {},
   "outputs": [],
   "source": [
    "dfny1"
   ]
  },
  {
   "cell_type": "code",
   "execution_count": null,
   "id": "504d42ac",
   "metadata": {},
   "outputs": [],
   "source": [
    "dfny1['daily_pc_count']"
   ]
  },
  {
   "cell_type": "code",
   "execution_count": null,
   "id": "3bee2783",
   "metadata": {},
   "outputs": [],
   "source": [
    "pc_charges = dfny1.groupby('HCPCS_Cd')['Avg_Sbmtd_Chrg'].mean().round(2).reset_index()\n",
    "pc_count = dfny1.groupby('HCPCS_Cd')['Tot_Bene_Day_Srvcs'].sum().round(2).reset_index()\n",
    "allowed_min = dfny1.groupby('HCPCS_Cd')['Avg_Mdcr_Alowd_Amt'].min().round(2).reset_index()\n",
    "allowed_max = dfny1.groupby('HCPCS_Cd')['Avg_Mdcr_Alowd_Amt'].max().round(2).reset_index()\n",
    "pc_charges"
   ]
  },
  {
   "cell_type": "code",
   "execution_count": null,
   "id": "74c60798",
   "metadata": {},
   "outputs": [],
   "source": [
    "df['Rndrng_Prvdr_Type'].value_counts()"
   ]
  },
  {
   "cell_type": "code",
   "execution_count": null,
   "id": "904667d9",
   "metadata": {},
   "outputs": [],
   "source": [
    "dfny1 = df[(df['Rndrng_Prvdr_State_Abrvtn'] == 'NY') & (df['Rndrng_Prvdr_Type'] == 'Internal Medicine')]"
   ]
  },
  {
   "cell_type": "code",
   "execution_count": null,
   "id": "3a9e3937",
   "metadata": {},
   "outputs": [],
   "source": [
    "dfny1 = dfny"
   ]
  },
  {
   "cell_type": "code",
   "execution_count": null,
   "id": "91a72e87",
   "metadata": {},
   "outputs": [],
   "source": [
    "dfnyu = df[(df['Rndrng_Prvdr_State_Abrvtn'] == 'NY') & (df['Rndrng_Prvdr_City'] == 'Utica')]"
   ]
  },
  {
   "cell_type": "code",
   "execution_count": null,
   "id": "0714a0d1",
   "metadata": {},
   "outputs": [],
   "source": [
    "dfnyu['Tot_Srvcs'].sum()\n",
    "dfnyu['Tot_Benes'].sum()"
   ]
  },
  {
   "cell_type": "code",
   "execution_count": null,
   "id": "77d77ed4",
   "metadata": {},
   "outputs": [],
   "source": []
  }
 ],
 "metadata": {
  "kernelspec": {
   "display_name": "Python 3",
   "language": "python",
   "name": "python3"
  },
  "language_info": {
   "codemirror_mode": {
    "name": "ipython",
    "version": 3
   },
   "file_extension": ".py",
   "mimetype": "text/x-python",
   "name": "python",
   "nbconvert_exporter": "python",
   "pygments_lexer": "ipython3",
   "version": "3.12.8"
  }
 },
 "nbformat": 4,
 "nbformat_minor": 5
}
